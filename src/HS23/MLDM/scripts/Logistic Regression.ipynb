{
 "cells": [
  {
   "cell_type": "code",
   "execution_count": 38,
   "metadata": {},
   "outputs": [],
   "source": [
    "import numpy as np\n",
    "\n",
    "# Example data: X - features, y - target (0 or 1)\n",
    "X = np.array([[ 100, 233, 150, 280, 80, 320, 135, 93, 224, 178 ]]).T\n",
    "y = np.array([ 0, 1, 1, 1, 0, 1, 1, 0, 1, 0 ])\n"
   ]
  },
  {
   "cell_type": "code",
   "execution_count": 47,
   "metadata": {},
   "outputs": [],
   "source": [
    "def sigmoid(z):\n",
    "    return 1 / (1 + np.exp(-z))\n",
    "\n",
    "def compute_cost(X, y, theta):\n",
    "    m = len(y)\n",
    "    predictions = sigmoid(X @ theta)\n",
    "    cost = (1/m) * np.sum(-y * np.log(predictions) - (1 - y) * np.log(1 - predictions))\n",
    "    return cost\n",
    "\n",
    "def gradient_descent(X, y, theta, alpha, iterations):\n",
    "    m = len(y)\n",
    "    cost_history = np.zeros(iterations)\n",
    "\n",
    "    for i in range(iterations):\n",
    "        gradient = (1/m) * X.T @ (sigmoid(X @ theta) - y)\n",
    "        theta -= alpha * gradient\n",
    "        cost_history[i] = compute_cost(X, y, theta)\n",
    "\n",
    "    return theta, cost_history\n",
    "\n",
    "def predict(X, theta):\n",
    "    predictions = sigmoid(X @ theta)\n",
    "    return [1 if i > 0.5 else 0 for i in predictions]"
   ]
  },
  {
   "cell_type": "code",
   "execution_count": 48,
   "metadata": {},
   "outputs": [
    {
     "name": "stdout",
     "output_type": "stream",
     "text": [
      "[1] [[0.16436593 0.83563407]]\n"
     ]
    }
   ],
   "source": [
    "import numpy as np\n",
    "import sklearn.linear_model\n",
    "\n",
    "\n",
    "# Train model\n",
    "logr = sklearn.linear_model.LogisticRegression()\n",
    "logr.fit(X, y)\n",
    "\n",
    "# We must pack the input x into a 2-d array of size (M x 1). Here, M=1.\n",
    "yhat = logr.predict([ [ 190 ] ])  # gives 0/1 binary prediction\n",
    "yhat_prob = logr.predict_proba([ [ 190 ] ])  # gives probabilistic prediction\n",
    "print(yhat, yhat_prob)"
   ]
  }
 ],
 "metadata": {
  "kernelspec": {
   "display_name": "Python 3",
   "language": "python",
   "name": "python3"
  },
  "language_info": {
   "codemirror_mode": {
    "name": "ipython",
    "version": 3
   },
   "file_extension": ".py",
   "mimetype": "text/x-python",
   "name": "python",
   "nbconvert_exporter": "python",
   "pygments_lexer": "ipython3",
   "version": "3.9.6"
  }
 },
 "nbformat": 4,
 "nbformat_minor": 2
}
