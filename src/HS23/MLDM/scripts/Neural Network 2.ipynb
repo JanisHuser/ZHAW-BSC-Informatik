{
 "cells": [
  {
   "cell_type": "markdown",
   "metadata": {},
   "source": [
    "![](https://matthewmazur.files.wordpress.com/2018/03/neural_network-9.png)"
   ]
  },
  {
   "cell_type": "code",
   "execution_count": 46,
   "metadata": {},
   "outputs": [],
   "source": [
    "import numpy as np\n",
    "def logistic(val):\n",
    "\treturn 1 / (1 + np.e ** (-val) )\n",
    "\n",
    "def logistic_partial(x):\n",
    "\treturn x * (1-x)"
   ]
  },
  {
   "cell_type": "code",
   "execution_count": 21,
   "metadata": {},
   "outputs": [],
   "source": [
    "x = [0.05, 0.1]\n",
    "y = [0.01, 0.99]\n",
    "w = [0.15, 0.20, 0.25, 0.30, 0.40, 0.45, 0.50, 0.55]\n",
    "b = [0.35, 0.60]"
   ]
  },
  {
   "cell_type": "code",
   "execution_count": 36,
   "metadata": {},
   "outputs": [],
   "source": [
    "def calc_forward_pass(x, w, b, activation_function):\n",
    "\tout = 0\n",
    "\tfor i in range(len(x)):\n",
    "\t\tout += w[i] * x[i]\n",
    "\n",
    "\tout += b\n",
    "\n",
    "\treturn out, activation_function(out)\n",
    "\n",
    "def split(x):\n",
    "\tnet = [e[0] for e in x]\n",
    "\tout = [e[1] for e in x]\n",
    "\n",
    "\treturn net, out"
   ]
  },
  {
   "cell_type": "code",
   "execution_count": 39,
   "metadata": {},
   "outputs": [
    {
     "name": "stdout",
     "output_type": "stream",
     "text": [
      "layer 1 output values [0.5932699921071872, 0.596884378259767]\n",
      "output values [0.7513650695523157, 0.7729284653214625]\n"
     ]
    }
   ],
   "source": [
    "net_h1, out_h1 = split([\n",
    "\tcalc_forward_pass(x, w[0:2], b[0], logistic),\n",
    "\tcalc_forward_pass(x, w[2:4], b[0], logistic)\n",
    "])\n",
    "net_o, out_o = split([\n",
    "\tcalc_forward_pass(out_h1, w[4:6], b[1], logistic),\n",
    "\tcalc_forward_pass(out_h1, w[6:8], b[1], logistic)\n",
    "])\n",
    "print (\"layer 1 output values\", out_h1)\n",
    "print (\"output values\", out_o)"
   ]
  },
  {
   "cell_type": "code",
   "execution_count": 75,
   "metadata": {},
   "outputs": [
    {
     "name": "stdout",
     "output_type": "stream",
     "text": [
      "MSE output errors [0.274811083176155, 0.023560025583847746]\n",
      "Total Error 0.2983711087600027\n"
     ]
    }
   ],
   "source": [
    "# Calculate E Total\n",
    "def mse(y, y_pred):\n",
    "\treturn 1/2 * (y - y_pred) ** 2\n",
    "Error_o = [mse(y[i], out_o[i]) for i in range(len(y))]\n",
    "E_total = sum(Error_o)\n",
    "\n",
    "print (\"MSE output errors\", Error_o)\n",
    "print (\"Total Error\", E_total)"
   ]
  },
  {
   "cell_type": "code",
   "execution_count": 63,
   "metadata": {},
   "outputs": [],
   "source": [
    "def delta_rule(target, out, input, partial_activation):\n",
    "\tres = -(target - out) \n",
    "\tres *= partial_activation(out)\n",
    "\tres *= input\n",
    "\n",
    "\treturn res"
   ]
  },
  {
   "cell_type": "code",
   "execution_count": 79,
   "metadata": {},
   "outputs": [
    {
     "name": "stdout",
     "output_type": "stream",
     "text": [
      "E_total_per_out [0.7413650695523157, -0.21707153467853746]\n",
      "out_per_net [0.18681560180895948, 0.17551005281727122]\n",
      "net_per_weight [0.5932699921071872, 0.596884378259767]\n",
      "total 0.08216704056423078\n",
      "0.08216704056423078\n",
      "0.08216704056423078\n"
     ]
    }
   ],
   "source": [
    "# Apply backwards pass\n",
    "E_total_per_out = [\n",
    "\t-(y[i] - out_o[i]) for i in range(len(y))\n",
    "]\n",
    "out_per_net = [\n",
    "\tlogistic_partial(out) for out in out_o\n",
    "]\n",
    "net_per_weight = out_h1\n",
    "\n",
    "\n",
    "print (\"E_total_per_out\", E_total_per_out)\n",
    "print (\"out_per_net\", out_per_net)\n",
    "print (\"net_per_weight\", net_per_weight)\n",
    "\n",
    "\n",
    "res = E_total_per_out[0] * out_per_net[0] * net_per_weight[0]\n",
    "print (\"total\", res)\n",
    "print (delta_rule(\n",
    "\ty[0],\n",
    "\tout_o[0],\n",
    "\tout_h1[0],\n",
    "\tlogistic_partial\n",
    "\t))\n",
    "\n",
    "print (-(y[0] - out_o[0]) * logistic_partial(out_o[0]) * out_h1[0])"
   ]
  },
  {
   "cell_type": "code",
   "execution_count": 80,
   "metadata": {},
   "outputs": [
    {
     "name": "stdout",
     "output_type": "stream",
     "text": [
      "total 0.08216704056423078\n",
      "new weight 0.40891647971788464\n"
     ]
    }
   ],
   "source": [
    "# Apply backwards pass\n",
    "alpha = 0.5\t\t# learning rate\n",
    "res = delta_rule(\n",
    "\ty[0],\n",
    "\tout_o[0],\n",
    "\tout_h1[0],\n",
    "\tlogistic_partial)\n",
    "\n",
    "def calc_new_weight(w, influence):\n",
    "\treturn w - alpha * influence\n",
    "\n",
    "\n",
    "new_weight = calc_new_weight(w[5], res)\n",
    "print (\"total\", res)\n",
    "print (\"new weight\", new_weight)\n"
   ]
  },
  {
   "cell_type": "code",
   "execution_count": 81,
   "metadata": {},
   "outputs": [
    {
     "name": "stdout",
     "output_type": "stream",
     "text": [
      "new weights 6-8 0.4086661860762334 0.5113012702387375 0.5613701211079891\n"
     ]
    }
   ],
   "source": [
    "new_w6  = calc_new_weight(w[5], delta_rule(\n",
    "\ty[0],\n",
    "\tout_o[0],\n",
    "\tout_h1[1],\n",
    "\tlogistic_partial\n",
    "))\n",
    "\n",
    "new_w7  = calc_new_weight(w[6], delta_rule(\n",
    "\ty[1],\n",
    "\tout_o[1],\n",
    "\tout_h1[0],\n",
    "\tlogistic_partial\n",
    "))\n",
    "\n",
    "new_w8  = calc_new_weight(w[7], delta_rule(\n",
    "\ty[1],\n",
    "\tout_o[1],\n",
    "\tout_h1[1],\n",
    "\tlogistic_partial\n",
    "))\n",
    "\n",
    "\n",
    "print (\"new weights 6-8\", new_w6, new_w7, new_w8)"
   ]
  },
  {
   "cell_type": "code",
   "execution_count": 91,
   "metadata": {},
   "outputs": [
    {
     "name": "stdout",
     "output_type": "stream",
     "text": [
      "[0.05539942465142279, -0.018248557223954427]\n"
     ]
    }
   ],
   "source": [
    "def calc_E_output__out_hidden(out_index, net_index, weight):\n",
    "\treturn E_total_per_out[out_index] * out_per_net[net_index] * weight\n",
    "\n",
    "E_output__out_hidden = [\n",
    "\tcalc_E_output__out_hidden(0, 0, w[4]),\n",
    "\tcalc_E_output__out_hidden(1, 0, w[5])\n",
    "]\n",
    "\n",
    "print (E_output__out_hidden)"
   ]
  },
  {
   "cell_type": "code",
   "execution_count": null,
   "metadata": {},
   "outputs": [],
   "source": []
  }
 ],
 "metadata": {
  "kernelspec": {
   "display_name": "Python 3",
   "language": "python",
   "name": "python3"
  },
  "language_info": {
   "codemirror_mode": {
    "name": "ipython",
    "version": 3
   },
   "file_extension": ".py",
   "mimetype": "text/x-python",
   "name": "python",
   "nbconvert_exporter": "python",
   "pygments_lexer": "ipython3",
   "version": "3.9.6"
  }
 },
 "nbformat": 4,
 "nbformat_minor": 2
}
