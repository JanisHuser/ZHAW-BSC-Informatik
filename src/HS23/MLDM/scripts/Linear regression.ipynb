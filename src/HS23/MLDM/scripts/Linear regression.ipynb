{
 "cells": [
  {
   "cell_type": "code",
   "execution_count": 3,
   "metadata": {},
   "outputs": [
    {
     "name": "stdout",
     "output_type": "stream",
     "text": [
      "0.5\n"
     ]
    }
   ],
   "source": [
    "import math\n",
    "\n",
    "# Teil a)\n",
    "theta_0_a = -20\n",
    "theta_1_a = 0.0002\n",
    "einkommen = 100000  # CHF\n",
    "\n",
    "# Berechnung der Wahrscheinlichkeit für das erste Modell\n",
    "logit_a = theta_0_a + theta_1_a * einkommen\n",
    "wahrscheinlichkeit_a = 1 / (1 + math.exp(-logit_a))\n",
    "\n",
    "print (wahrscheinlichkeit_a)"
   ]
  },
  {
   "cell_type": "code",
   "execution_count": 4,
   "metadata": {},
   "outputs": [
    {
     "name": "stdout",
     "output_type": "stream",
     "text": [
      "0.9994472213630764\n"
     ]
    }
   ],
   "source": [
    "\n",
    "# Teil b)\n",
    "theta_0_b = -12\n",
    "theta_1_b = 0.0002\n",
    "theta_2_b = -0.000001\n",
    "kreditsumme = 500000  # CHF\n",
    "\n",
    "# Berechnung der Wahrscheinlichkeit für das erweiterte Modell\n",
    "logit_b = theta_0_b + theta_1_b * einkommen + theta_2_b * kreditsumme\n",
    "wahrscheinlichkeit_b = 1 / (1 + math.exp(-logit_b))\n",
    "\n",
    "print (wahrscheinlichkeit_b)\n",
    "\n"
   ]
  },
  {
   "cell_type": "code",
   "execution_count": 6,
   "metadata": {},
   "outputs": [],
   "source": [
    "def linear_regression(theta, x):\n",
    "\tsum = theta[0]\n",
    "\n",
    "\tfor i in range(len(x)):\n",
    "\t\tsum += x[i]*theta[i+1]\n",
    "\n",
    "\treturn sum\n",
    "\n",
    "def p(x):\n",
    "\treturn 1 / (1 + math.exp(-x))\n",
    "\n",
    "theta = [-12, 0.0002, -0.000001]\n",
    "x = [100000, 500000]\n"
   ]
  },
  {
   "cell_type": "code",
   "execution_count": 7,
   "metadata": {},
   "outputs": [
    {
     "name": "stdout",
     "output_type": "stream",
     "text": [
      "0.9994472213630764\n"
     ]
    }
   ],
   "source": []
  }
 ],
 "metadata": {
  "kernelspec": {
   "display_name": "Python 3",
   "language": "python",
   "name": "python3"
  },
  "language_info": {
   "codemirror_mode": {
    "name": "ipython",
    "version": 3
   },
   "file_extension": ".py",
   "mimetype": "text/x-python",
   "name": "python",
   "nbconvert_exporter": "python",
   "pygments_lexer": "ipython3",
   "version": "3.9.6"
  }
 },
 "nbformat": 4,
 "nbformat_minor": 2
}
