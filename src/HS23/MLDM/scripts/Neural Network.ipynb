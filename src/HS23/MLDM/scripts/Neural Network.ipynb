{
 "cells": [
  {
   "cell_type": "code",
   "execution_count": 8,
   "metadata": {},
   "outputs": [
    {
     "name": "stdout",
     "output_type": "stream",
     "text": [
      "Weights= 12960\n",
      "Biases= 42\n"
     ]
    }
   ],
   "source": [
    "# How many parameters\n",
    "\n",
    "input_layer_nodes = 784\n",
    "output_layer_neurons = 10\n",
    "hidden_layer_count = 2\n",
    "neutrons_per_hidden_layer = 16\n",
    "\n",
    "def calc_weight_count():\n",
    "\tcount = input_layer_nodes * neutrons_per_hidden_layer\n",
    "\n",
    "\tfor _ in range(hidden_layer_count-1):\n",
    "\t\tcount += (neutrons_per_hidden_layer ** 2)\n",
    "\n",
    "\tcount += neutrons_per_hidden_layer * output_layer_neurons\n",
    "\n",
    "\treturn count\n",
    "\n",
    "\n",
    "def calc_bias_count():\n",
    "\tcount = neutrons_per_hidden_layer\n",
    "\tfor _ in range(hidden_layer_count-1):\n",
    "\t\tcount += neutrons_per_hidden_layer\n",
    "\n",
    "\tcount += output_layer_neurons\n",
    "\n",
    "\treturn count\n",
    "\n",
    "print (\"Weights=\", calc_weight_count())\n",
    "print (\"Biases=\", calc_bias_count())"
   ]
  }
 ],
 "metadata": {
  "kernelspec": {
   "display_name": "Python 3",
   "language": "python",
   "name": "python3"
  },
  "language_info": {
   "codemirror_mode": {
    "name": "ipython",
    "version": 3
   },
   "file_extension": ".py",
   "mimetype": "text/x-python",
   "name": "python",
   "nbconvert_exporter": "python",
   "pygments_lexer": "ipython3",
   "version": "3.9.6"
  }
 },
 "nbformat": 4,
 "nbformat_minor": 2
}
