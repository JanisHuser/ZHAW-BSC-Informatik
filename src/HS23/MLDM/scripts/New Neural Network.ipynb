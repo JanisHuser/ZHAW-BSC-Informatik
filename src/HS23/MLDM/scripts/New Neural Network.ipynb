{
 "cells": [
  {
   "cell_type": "code",
   "execution_count": 2,
   "metadata": {},
   "outputs": [
    {
     "name": "stdout",
     "output_type": "stream",
     "text": [
      "Defaulting to user installation because normal site-packages is not writeable\n",
      "Requirement already satisfied: networkx in /Users/janishuser/Library/Python/3.9/lib/python/site-packages (3.2.1)\n",
      "Requirement already satisfied: matplotlib in /Users/janishuser/Library/Python/3.9/lib/python/site-packages (3.8.2)\n",
      "Requirement already satisfied: pillow>=8 in /Users/janishuser/Library/Python/3.9/lib/python/site-packages (from matplotlib) (10.1.0)\n",
      "Requirement already satisfied: kiwisolver>=1.3.1 in /Users/janishuser/Library/Python/3.9/lib/python/site-packages (from matplotlib) (1.4.5)\n",
      "Requirement already satisfied: python-dateutil>=2.7 in /Users/janishuser/Library/Python/3.9/lib/python/site-packages (from matplotlib) (2.8.2)\n",
      "Requirement already satisfied: importlib-resources>=3.2.0 in /Users/janishuser/Library/Python/3.9/lib/python/site-packages (from matplotlib) (6.1.1)\n",
      "Requirement already satisfied: pyparsing>=2.3.1 in /Users/janishuser/Library/Python/3.9/lib/python/site-packages (from matplotlib) (3.1.1)\n",
      "Requirement already satisfied: fonttools>=4.22.0 in /Users/janishuser/Library/Python/3.9/lib/python/site-packages (from matplotlib) (4.46.0)\n",
      "Requirement already satisfied: contourpy>=1.0.1 in /Users/janishuser/Library/Python/3.9/lib/python/site-packages (from matplotlib) (1.2.0)\n",
      "Requirement already satisfied: packaging>=20.0 in /Users/janishuser/Library/Python/3.9/lib/python/site-packages (from matplotlib) (23.2)\n",
      "Requirement already satisfied: numpy<2,>=1.21 in /Users/janishuser/Library/Python/3.9/lib/python/site-packages (from matplotlib) (1.26.2)\n",
      "Requirement already satisfied: cycler>=0.10 in /Users/janishuser/Library/Python/3.9/lib/python/site-packages (from matplotlib) (0.12.1)\n",
      "Requirement already satisfied: zipp>=3.1.0 in /Users/janishuser/Library/Python/3.9/lib/python/site-packages (from importlib-resources>=3.2.0->matplotlib) (3.17.0)\n",
      "Requirement already satisfied: six>=1.5 in /Library/Developer/CommandLineTools/Library/Frameworks/Python3.framework/Versions/3.9/lib/python3.9/site-packages (from python-dateutil>=2.7->matplotlib) (1.15.0)\n",
      "\u001b[33mWARNING: You are using pip version 21.2.4; however, version 23.3.2 is available.\n",
      "You should consider upgrading via the '/Library/Developer/CommandLineTools/usr/bin/python3 -m pip install --upgrade pip' command.\u001b[0m\n",
      "Note: you may need to restart the kernel to use updated packages.\n"
     ]
    }
   ],
   "source": [
    "pip install networkx matplotlib"
   ]
  },
  {
   "cell_type": "code",
   "execution_count": 1,
   "metadata": {},
   "outputs": [
    {
     "name": "stdout",
     "output_type": "stream",
     "text": [
      "pd(z) => Partial Derative of z, in this case logistic function and so on\n",
      "outputs per neuron (forward feed) [[0.5932699921071872, 0.596884378259767], [0.7513650695523157, 0.7729284653214625]]\n",
      "---------------\n",
      "1. Updating Output weights\n",
      "Calculating new value of w5\n",
      "w5=-(y1 - out_o1) * pd(g(out_o1)) * out_h1) g=LOGISTICAL\n",
      "w5=-0.01 - 0.7513650695523157) * 0.18681560180895948 * 0.5932699921071872\n",
      "w5=0.35891647971788465\n",
      "Calculating new value of w6\n",
      "w6=-(y1 - out_o1) * pd(g(out_o1)) * out_h2) g=LOGISTICAL\n",
      "w6=-0.01 - 0.7513650695523157) * 0.18681560180895948 * 0.596884378259767\n",
      "w6=0.4086661860762334\n",
      "Calculating new value of w7\n",
      "w7=-(y2 - out_o2) * pd(g(out_o2)) * out_h1) g=LOGISTICAL\n",
      "w7=-0.99 - 0.7729284653214625) * 0.17551005281727122 * 0.5932699921071872\n",
      "w7=0.5113012702387375\n",
      "Calculating new value of w8\n",
      "w8=-(y2 - out_o2) * pd(g(out_o2)) * out_h2) g=LOGISTICAL\n",
      "w8=-0.99 - 0.7729284653214625) * 0.17551005281727122 * 0.596884378259767\n",
      "w8=0.5613701211079891\n",
      "[0.35891647971788465, 0.4086661860762334, 0.5113012702387375, 0.5613701211079891]\n"
     ]
    }
   ],
   "source": [
    "from NeuralNetwork.NeuralNetwork import NeuralNetwork, LayerType, ActivationFuncton\n",
    "\n",
    "nn = NeuralNetwork(2)\n",
    "nn.add_hidden_layer(2, ActivationFuncton.LOGISTICAL, [0.15, 0.2, 0.25, 0.3], 0.35)\n",
    "#nn.add_hidden_layer(2, ActivationFuncton.LOGISTICAL, [0.15, 0.2, 0.25, 0.3], 0.35)\n",
    "nn.add_output_layer(2, ActivationFuncton.LOGISTICAL, [0.4, 0.45, 0.5, 0.55], 0.6)\n",
    "\n",
    "#nn.visualize()\n",
    "\n",
    "\n",
    "nn.train([0.05, 0.1], [0.01, 0.99])\n",
    "\n"
   ]
  }
 ],
 "metadata": {
  "kernelspec": {
   "display_name": "Python 3",
   "language": "python",
   "name": "python3"
  },
  "language_info": {
   "codemirror_mode": {
    "name": "ipython",
    "version": 3
   },
   "file_extension": ".py",
   "mimetype": "text/x-python",
   "name": "python",
   "nbconvert_exporter": "python",
   "pygments_lexer": "ipython3",
   "version": "3.9.6"
  }
 },
 "nbformat": 4,
 "nbformat_minor": 2
}
