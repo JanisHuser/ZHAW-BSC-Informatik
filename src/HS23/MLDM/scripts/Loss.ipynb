{
 "cells": [
  {
   "cell_type": "code",
   "execution_count": 2,
   "metadata": {},
   "outputs": [
    {
     "data": {
      "text/plain": [
       "0.457"
      ]
     },
     "execution_count": 2,
     "metadata": {},
     "output_type": "execute_result"
    }
   ],
   "source": [
    "import numpy as np\n",
    "\n",
    "def binary_cross_entropy_loss(y_true, y_pred):\n",
    "    return -np.mean(y_true * np.log(y_pred) + (1 - y_true) * np.log(1 - y_pred))\n",
    "\n",
    "# Given labels and predictions\n",
    "y_true = np.array([0, 0, 1, 1, 0, 1, 0])\n",
    "y_pred = np.array([0.5, 0.7, 0.8, 0.9, 0.1, 0.6, 0.3])\n",
    "\n",
    "# Calculating the loss and rounding to 3 decimal places\n",
    "loss = binary_cross_entropy_loss(y_true, y_pred)\n",
    "rounded_loss = np.round(loss, 3)\n",
    "print(\"rounded_loss\", rounded_loss)\n"
   ]
  }
 ],
 "metadata": {
  "kernelspec": {
   "display_name": "Python 3",
   "language": "python",
   "name": "python3"
  },
  "language_info": {
   "codemirror_mode": {
    "name": "ipython",
    "version": 3
   },
   "file_extension": ".py",
   "mimetype": "text/x-python",
   "name": "python",
   "nbconvert_exporter": "python",
   "pygments_lexer": "ipython3",
   "version": "3.9.6"
  }
 },
 "nbformat": 4,
 "nbformat_minor": 2
}
