{
 "cells": [
  {
   "cell_type": "code",
   "execution_count": 1,
   "metadata": {},
   "outputs": [
    {
     "name": "stdout",
     "output_type": "stream",
     "text": [
      "forward feed nets [0.3775, 0.39249999999999996, 1.10590596705977, 1.2249214040964653]\n",
      "forward feed outs [0.5932699921071872, 0.596884378259767, 0.7513650695523157, 0.7729284653214625]\n",
      "e_total 0.2983711087600027\n"
     ]
    }
   ],
   "source": [
    "from NeuralNetwork.NeuralNetwork import NeuralNetwork, LayerType, ActivationFunction\n",
    "\n",
    "nn = NeuralNetwork()\n",
    "\n",
    "\n",
    "\n",
    "## SETUP FIRST\n",
    "nn.add_layer(LayerType.INPUT, 2, ActivationFunction.NONE, [0.15, 0.20, 0.25, 0.30])\n",
    "nn.add_layer(LayerType.HIDDEN, 2, ActivationFunction.LOGISTIC, [0.40, 0.45, 0.50, 0.55],[0.35, 0.35])\n",
    "nn.add_layer(LayerType.OUTPUT, 2, ActivationFunction.LOGISTIC, None, [0.60, 0.60])\n",
    "\n",
    "## INITIALIZE MODEL\n",
    "nn.init()\n",
    "\n",
    "\n",
    "X = [0.05, 0.1]\n",
    "y = [0.01, 0.99]\n",
    "nn.train(X, y)\n"
   ]
  }
 ],
 "metadata": {
  "kernelspec": {
   "display_name": "Python 3",
   "language": "python",
   "name": "python3"
  },
  "language_info": {
   "codemirror_mode": {
    "name": "ipython",
    "version": 3
   },
   "file_extension": ".py",
   "mimetype": "text/x-python",
   "name": "python",
   "nbconvert_exporter": "python",
   "pygments_lexer": "ipython3",
   "version": "3.9.6"
  }
 },
 "nbformat": 4,
 "nbformat_minor": 2
}
