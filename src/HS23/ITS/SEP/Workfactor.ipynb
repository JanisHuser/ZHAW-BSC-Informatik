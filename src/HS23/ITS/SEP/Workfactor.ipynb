{
 "cells": [
  {
   "cell_type": "code",
   "execution_count": 4,
   "metadata": {},
   "outputs": [],
   "source": [
    "import math"
   ]
  },
  {
   "cell_type": "code",
   "execution_count": 3,
   "metadata": {},
   "outputs": [],
   "source": [
    "def wf_in_bits(wf):\n",
    "\treturn math.log(wf)/math.log(2)\n",
    "\n",
    "def calc_work_factor(x):\n",
    "\tsum = 0\n",
    "\n",
    "\tfor i in range(1, len(x)+1):\n",
    "\t\tsum += i * (x[i-1])\n",
    "\n",
    "\treturn sum\n",
    "\n",
    "def calc_break_time(work_factor, cpu_freq, cycles_per_byte):\n",
    "\treturn work_factor / (cpu_freq * cycles_per_byte)"
   ]
  },
  {
   "cell_type": "code",
   "execution_count": 7,
   "metadata": {},
   "outputs": [
    {
     "name": "stdout",
     "output_type": "stream",
     "text": [
      "WF= 8.5\n",
      "SUM OF p (must be equal to 1.0)= 1.0\n",
      "wf in bits= 3.0874628412503395\n",
      "time in seconds to break= 2.65625e-07\n"
     ]
    }
   ],
   "source": [
    "probabiities = [1/16, 1/16, 1/16, 1/16,1/16, 1/16, 1/16, 1/16,1/16, 1/16, 1/16, 1/16,1/16, 1/16, 1/16, 1/16]\n",
    "\n",
    "work_factor = calc_work_factor(probabiities)\n",
    "print (\"WF=\", work_factor)\n",
    "\n",
    "\n",
    "print (\"SUM OF p (must be equal to 1.0)=\", sum(probabiities))\n",
    "print (\"wf in bits=\", wf_in_bits(work_factor))\n",
    "\n",
    "cpu_freq = 3.2 *10e6\n",
    "cycles_per_byte = 1\n",
    "print (\"time in seconds to break=\", calc_break_time(work_factor, cpu_freq, cycles_per_byte))"
   ]
  },
  {
   "cell_type": "code",
   "execution_count": 8,
   "metadata": {},
   "outputs": [
    {
     "name": "stdout",
     "output_type": "stream",
     "text": [
      "16 512\n"
     ]
    }
   ],
   "source": [
    "K = 5\n",
    "\n",
    "def wf_k(k):\n",
    "\treturn 2**(k-1)\n",
    "\n",
    "print (wf_k(K), wf_k(2*K))"
   ]
  }
 ],
 "metadata": {
  "kernelspec": {
   "display_name": "Python 3",
   "language": "python",
   "name": "python3"
  },
  "language_info": {
   "codemirror_mode": {
    "name": "ipython",
    "version": 3
   },
   "file_extension": ".py",
   "mimetype": "text/x-python",
   "name": "python",
   "nbconvert_exporter": "python",
   "pygments_lexer": "ipython3",
   "version": "3.9.6"
  }
 },
 "nbformat": 4,
 "nbformat_minor": 2
}
