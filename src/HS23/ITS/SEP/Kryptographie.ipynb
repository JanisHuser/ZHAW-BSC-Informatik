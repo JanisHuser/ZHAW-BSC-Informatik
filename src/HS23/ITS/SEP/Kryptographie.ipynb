{
 "cells": [
  {
   "cell_type": "markdown",
   "metadata": {},
   "source": [
    "# Diffie-Helman "
   ]
  },
  {
   "cell_type": "code",
   "execution_count": 2,
   "metadata": {},
   "outputs": [
    {
     "name": "stdout",
     "output_type": "stream",
     "text": [
      "secret alice: True, 1\n",
      "secret bob: True, 1\n"
     ]
    }
   ],
   "source": [
    "p = 7\n",
    "g = 5\n",
    "a = 3\n",
    "b = 4\n",
    "\n",
    "# Alice public key\n",
    "A = g**a % p\n",
    "\n",
    "# Bob public key\n",
    "B = g**b % p\n",
    "\n",
    "# Secret Alice (SA1 = SA2)\n",
    "SA1 = B ** a % p\n",
    "SA2 = g ** (a*b) % p\n",
    "print (f\"secret alice: {SA1 == SA2}, {SA1}\")\n",
    "\n",
    "# Secret Bob (SB1 = SB2)\n",
    "SB1 = A ** b % p\n",
    "SB2 = g ** (b*a) % p\n",
    "\n",
    "print (f\"secret bob: {SB1 == SB2}, {SB1}\")"
   ]
  }
 ],
 "metadata": {
  "kernelspec": {
   "display_name": "Python 3",
   "language": "python",
   "name": "python3"
  },
  "language_info": {
   "codemirror_mode": {
    "name": "ipython",
    "version": 3
   },
   "file_extension": ".py",
   "mimetype": "text/x-python",
   "name": "python",
   "nbconvert_exporter": "python",
   "pygments_lexer": "ipython3",
   "version": "3.9.6"
  }
 },
 "nbformat": 4,
 "nbformat_minor": 2
}
