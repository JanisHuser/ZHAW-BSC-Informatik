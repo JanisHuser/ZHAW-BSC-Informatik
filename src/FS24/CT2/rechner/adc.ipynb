{
 "cells": [
  {
   "cell_type": "code",
   "execution_count": 4,
   "metadata": {},
   "outputs": [
    {
     "name": "stdout",
     "output_type": "stream",
     "text": [
      "Anzahl mögliche Werte:  64\n",
      "Minimale Auflösung:  64.0\n",
      "Full scale range 4032.0\n"
     ]
    }
   ],
   "source": [
    "# ADC Auflösung\n",
    "\n",
    "bits_adc = 6\n",
    "vref = 4096\t\t#mv\n",
    "\n",
    "total_steps = 2 ** bits_adc\n",
    "resolution = vref / total_steps\n",
    "\n",
    "FSR=(total_steps-1) * resolution\n",
    "\n",
    "print (\"Anzahl mögliche Werte: \", total_steps)\n",
    "print (\"Minimale Auflösung: \", resolution)\n",
    "print (\"Full scale range\", FSR)"
   ]
  },
  {
   "cell_type": "code",
   "execution_count": 5,
   "metadata": {},
   "outputs": [
    {
     "name": "stdout",
     "output_type": "stream",
     "text": [
      "adc_value:  35.9375\n"
     ]
    }
   ],
   "source": [
    "input_voltage = 2300\n",
    "\n",
    "adc_output = input_voltage / resolution\n",
    "\n",
    "print (\"adc_value: \", int(adc_output))"
   ]
  }
 ],
 "metadata": {
  "kernelspec": {
   "display_name": "Python 3",
   "language": "python",
   "name": "python3"
  },
  "language_info": {
   "codemirror_mode": {
    "name": "ipython",
    "version": 3
   },
   "file_extension": ".py",
   "mimetype": "text/x-python",
   "name": "python",
   "nbconvert_exporter": "python",
   "pygments_lexer": "ipython3",
   "version": "3.12.2"
  }
 },
 "nbformat": 4,
 "nbformat_minor": 2
}
