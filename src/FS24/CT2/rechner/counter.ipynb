{
 "cells": [
  {
   "cell_type": "code",
   "execution_count": 21,
   "metadata": {},
   "outputs": [],
   "source": [
    "def u(value):\n",
    "\treturn value / 1000000000\n",
    "\n",
    "def u(value):\n",
    "\treturn value / 1000000\n",
    "\n",
    "def m(value):\n",
    "\treturn value / 1000\n",
    "\n",
    "def k(value):\n",
    "\treturn value * 1000\n",
    "\n",
    "def M(value):\n",
    "\treturn k(value) * 1000\n",
    "\n",
    "def G(value):\n",
    "\treturn M(value) * 1000\n",
    "\n",
    "def percent(value):\n",
    "\treturn value / 100\n",
    "\n",
    "def limit_to_x_bits(value, x_bits):\n",
    "    # Calculate the mask as (2 ** x_bits) - 1\n",
    "    mask = (1 << x_bits) - 1\n",
    "    # Apply the mask to limit the value to x_bits\n",
    "    limited_value = int(value) & mask\n",
    "    return limited_value"
   ]
  },
  {
   "cell_type": "code",
   "execution_count": 26,
   "metadata": {},
   "outputs": [],
   "source": [
    "f_count = k(100) \t\t# Hz\n",
    "bits = 16\t\t\t\t# bits\n",
    "output = m(650)\t\t\t# s\n",
    "is_up_counter = False"
   ]
  },
  {
   "cell_type": "code",
   "execution_count": 19,
   "metadata": {},
   "outputs": [
    {
     "name": "stdout",
     "output_type": "stream",
     "text": [
      "ARR = 0.65s * 100000Hz -1 = 64999\n"
     ]
    }
   ],
   "source": [
    "# ARR - Auto Reload Register\n",
    "\n",
    "ARR = limit_to_x_bits(output * f_count -1, bits)\n",
    "print (f\"ARR = {output}s * {f_count}Hz -1 = {int(ARR)}\")"
   ]
  },
  {
   "cell_type": "code",
   "execution_count": 28,
   "metadata": {},
   "outputs": [
    {
     "name": "stdout",
     "output_type": "stream",
     "text": [
      "CCR_1= ARR * (1-duty cycle) = 64999 * 0.6 = 25999\n"
     ]
    }
   ],
   "source": [
    "# Duty Cycle\n",
    "\n",
    "ds = percent(60)\t\t# 60%\n",
    "\n",
    "\n",
    "if is_up_counter:\n",
    "\tCCR_1 = limit_to_x_bits(ARR * ds, bits)\n",
    "\tprint(f\"CCR_1 = ARR * duty cycle = {ARR} * {ds} = {CCR_1}\")\n",
    "else:\n",
    "\tCCR_1 = limit_to_x_bits(ARR * (1-ds), bits)\n",
    "\tprint(f\"CCR_1= ARR * (1-duty cycle) = {ARR} * {ds} = {CCR_1}\")"
   ]
  }
 ],
 "metadata": {
  "kernelspec": {
   "display_name": "Python 3",
   "language": "python",
   "name": "python3"
  },
  "language_info": {
   "codemirror_mode": {
    "name": "ipython",
    "version": 3
   },
   "file_extension": ".py",
   "mimetype": "text/x-python",
   "name": "python",
   "nbconvert_exporter": "python",
   "pygments_lexer": "ipython3",
   "version": "3.12.2"
  }
 },
 "nbformat": 4,
 "nbformat_minor": 2
}
