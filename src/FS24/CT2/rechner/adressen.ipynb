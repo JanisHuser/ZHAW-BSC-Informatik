{
 "cells": [
  {
   "cell_type": "code",
   "execution_count": 55,
   "metadata": {},
   "outputs": [],
   "source": [
    "def value_to_bits(value, bit_limit):\n",
    "    # Generate the bit array by converting the value to binary and keeping the last `bit_limit` bits\n",
    "    bits = [int(x) for x in f'{value:0{bit_limit}b}'[-bit_limit:]]\n",
    "    return bits\n"
   ]
  },
  {
   "cell_type": "code",
   "execution_count": 57,
   "metadata": {},
   "outputs": [
    {
     "name": "stdout",
     "output_type": "stream",
     "text": [
      "Anzahl ignorierte Leitungen: 5\n",
      "Ignorierte bits: [3, 4, 5, 6, 7]\n"
     ]
    }
   ],
   "source": [
    "# Partielle adresscodierung\n",
    "\n",
    "bits = 8\n",
    "addresses = [0x95, 0x8a]\n",
    "LSB = 0\n",
    "\n",
    "addresses_as_bits = []\n",
    "# convert addresses\n",
    "for addr in addresses:\n",
    "\taddresses_as_bits.append(value_to_bits(addr, bits))\n",
    "\n",
    "ignored_bits = []\n",
    "\n",
    "# Find varying bits\n",
    "for i in range(bits):\n",
    "    bit = addresses_as_bits[0][i]\n",
    "    if any(addr[i] != bit for addr in addresses_as_bits):\n",
    "        ignored_bits.append(abs(LSB - i))\n",
    "\t\n",
    "\n",
    "\n",
    "print (\"Anzahl ignorierte Leitungen:\", len(ignored_bits))\n",
    "print (\"Ignorierte bits:\", sorted(ignored_bits))\n",
    "\t"
   ]
  },
  {
   "cell_type": "code",
   "execution_count": 41,
   "metadata": {},
   "outputs": [
    {
     "name": "stdout",
     "output_type": "stream",
     "text": [
      "0x95\n",
      "0x8a\n"
     ]
    }
   ],
   "source": []
  }
 ],
 "metadata": {
  "kernelspec": {
   "display_name": "Python 3",
   "language": "python",
   "name": "python3"
  },
  "language_info": {
   "codemirror_mode": {
    "name": "ipython",
    "version": 3
   },
   "file_extension": ".py",
   "mimetype": "text/x-python",
   "name": "python",
   "nbconvert_exporter": "python",
   "pygments_lexer": "ipython3",
   "version": "3.12.2"
  }
 },
 "nbformat": 4,
 "nbformat_minor": 2
}
