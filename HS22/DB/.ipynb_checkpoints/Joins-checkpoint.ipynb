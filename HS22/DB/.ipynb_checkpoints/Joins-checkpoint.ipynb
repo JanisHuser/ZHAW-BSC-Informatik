{
 "cells": [
  {
   "cell_type": "markdown",
   "metadata": {},
   "source": [
    "Natural Join"
   ]
  },
  {
   "cell_type": "code",
   "execution_count": 1,
   "metadata": {},
   "outputs": [
    {
     "ename": "NameError",
     "evalue": "name 't1tuples' is not defined",
     "output_type": "error",
     "traceback": [
      "\u001b[0;31m---------------------------------------------------------------------------\u001b[0m",
      "\u001b[0;31mNameError\u001b[0m                                 Traceback (most recent call last)",
      "\u001b[0;32m<ipython-input-1-4645f9faf5f8>\u001b[0m in \u001b[0;36m<module>\u001b[0;34m\u001b[0m\n\u001b[1;32m     18\u001b[0m ]\n\u001b[1;32m     19\u001b[0m \u001b[0;34m\u001b[0m\u001b[0m\n\u001b[0;32m---> 20\u001b[0;31m \u001b[0mnew_attributes\u001b[0m\u001b[0;34m,\u001b[0m \u001b[0mnew_table\u001b[0m \u001b[0;34m=\u001b[0m \u001b[0mnatural_join\u001b[0m\u001b[0;34m.\u001b[0m\u001b[0mjoin\u001b[0m\u001b[0;34m(\u001b[0m\u001b[0mt1tuples\u001b[0m\u001b[0;34m,\u001b[0m \u001b[0mt2tuples\u001b[0m\u001b[0;34m,\u001b[0m \u001b[0;32mTrue\u001b[0m\u001b[0;34m)\u001b[0m\u001b[0;34m\u001b[0m\u001b[0m\n\u001b[0m",
      "\u001b[0;31mNameError\u001b[0m: name 't1tuples' is not defined"
     ]
    }
   ],
   "source": [
    "from Scripts.Joins.NaturalJoin import NaturalJoin\n",
    "\n",
    "header_a = ['A', 'B', 'C', 'D']\n",
    "header_b = ['B', 'D', 'E']\n",
    "\n",
    "natural_join = NaturalJoin(header_a, header_b)\n",
    "\n",
    "data_a = [\n",
    "    ['A', 1, 'A', 'a'],\n",
    "    ['B', 2, 'Y', 'a'],\n",
    "    ['Y', 4, 'B', 'b'],\n",
    "    ['A', 1, 'Y', 'a'],\n",
    "    ['S', 2, 'B', 'b']]\n",
    "\n",
    "data_b = [\n",
    "    [1, 'a', 'A'],\n",
    "    [1, 'a', 'B']\n",
    "]\n",
    "\n",
    "new_attributes, new_table = natural_join.join(data_a, data_b, True)"
   ]
  }
 ],
 "metadata": {
  "kernelspec": {
   "display_name": "Python 3",
   "language": "python",
   "name": "python3"
  },
  "language_info": {
   "codemirror_mode": {
    "name": "ipython",
    "version": 3
   },
   "file_extension": ".py",
   "mimetype": "text/x-python",
   "name": "python",
   "nbconvert_exporter": "python",
   "pygments_lexer": "ipython3",
   "version": "3.6.6+"
  }
 },
 "nbformat": 4,
 "nbformat_minor": 2
}
