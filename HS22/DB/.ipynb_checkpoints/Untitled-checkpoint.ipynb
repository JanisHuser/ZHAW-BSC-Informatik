{
 "cells": [
  {
   "cell_type": "code",
   "execution_count": 1,
   "metadata": {},
   "outputs": [
    {
     "name": "stdout",
     "output_type": "stream",
     "text": [
      "Natural join on a and b\n",
      "A\tB\tC\tD\tE\n",
      "a1\tb1\tc1\td1\te1\n",
      "\n",
      "Apply full outer join\n",
      "A\tB\tC\tD\tE\n",
      "a1\tb1\tc1\td1\te1\n",
      "None\tNone\tc3\td2\te2\n",
      "a2\tb2\tc2\tNone\tNone\n",
      "a2\tb2\tc2\tNone\tNone\n"
     ]
    }
   ],
   "source": [
    "from Scripts.Joins.FullOuterJoin import FullOuterJoin\n",
    "\n",
    "header_R = [\n",
    "    'A', 'B', 'C'\n",
    "]\n",
    "\n",
    "header_S = [\n",
    "    'C', 'D', 'E'\n",
    "]\n",
    "\n",
    "data_R = [\n",
    "    ['a1', 'b1', 'c1'],\n",
    "    ['a2', 'b2', 'c2']\n",
    "]\n",
    "data_S = [\n",
    "    ['c1', 'd1', 'e1'],\n",
    "    ['c3', 'd2', 'e2']\n",
    "]\n",
    "\n",
    "full_outer = FullOuterJoin(header_R, header_S)\n",
    "full_outer.set_bag(False)\n",
    "new_header, new_data = full_outer.join(data_R, data_S, True)"
   ]
  }
 ],
 "metadata": {
  "kernelspec": {
   "display_name": "Python 3",
   "language": "python",
   "name": "python3"
  },
  "language_info": {
   "codemirror_mode": {
    "name": "ipython",
    "version": 3
   },
   "file_extension": ".py",
   "mimetype": "text/x-python",
   "name": "python",
   "nbconvert_exporter": "python",
   "pygments_lexer": "ipython3",
   "version": "3.6.6+"
  }
 },
 "nbformat": 4,
 "nbformat_minor": 2
}
