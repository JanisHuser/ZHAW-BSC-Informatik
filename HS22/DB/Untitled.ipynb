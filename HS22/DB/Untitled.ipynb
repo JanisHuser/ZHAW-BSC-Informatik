{
 "cells": [
  {
   "cell_type": "code",
   "execution_count": 1,
   "metadata": {},
   "outputs": [
    {
     "name": "stdout",
     "output_type": "stream",
     "text": [
      "A\tB\tC\n",
      "0\t1\t0\n",
      "1\t1\t0\n",
      "1\t0\t1\n",
      "1\t0\t0\n"
     ]
    }
   ],
   "source": [
    "from Scripts.GroupBy import GroupBy\n",
    "\n",
    "headers = [\n",
    "    'A', 'B', 'C'\n",
    "]\n",
    "\n",
    "data = [\n",
    "    [1, 0, 0],\n",
    "    [1, 0, 1],\n",
    "    [1, 1, 0],\n",
    "    [0, 1, 0]\n",
    "]\n",
    "\n",
    "columns = 'B'\n",
    "projection = GroupBy(headers, columns)\n",
    "new_data = projection.group_by(data, False, True)"
   ]
  }
 ],
 "metadata": {
  "kernelspec": {
   "display_name": "Python 3",
   "language": "python",
   "name": "python3"
  },
  "language_info": {
   "codemirror_mode": {
    "name": "ipython",
    "version": 3
   },
   "file_extension": ".py",
   "mimetype": "text/x-python",
   "name": "python",
   "nbconvert_exporter": "python",
   "pygments_lexer": "ipython3",
   "version": "3.6.6+"
  }
 },
 "nbformat": 4,
 "nbformat_minor": 2
}
