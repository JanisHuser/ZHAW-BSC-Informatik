{
 "cells": [
  {
   "cell_type": "code",
   "execution_count": 1,
   "metadata": {},
   "outputs": [
    {
     "name": "stdout",
     "output_type": "stream",
     "text": [
      "A\tC\tX\n",
      "1\t0\t2\n",
      "1\t1\t3\n",
      "0\t0\t0\n"
     ]
    }
   ],
   "source": [
    "from Scripts.Projection import Projection\n",
    "\n",
    "headers = [\n",
    "    'A', 'B', 'C'\n",
    "]\n",
    "\n",
    "data = [\n",
    "    [1, 0, 0],\n",
    "    [1, 0, 1],\n",
    "    [1, 1, 0],\n",
    "    [0, 1, 0]\n",
    "]\n",
    "\n",
    "columns = ['A', 'C']\n",
    "extensions = [('2*A+C', 'X')]\n",
    "projection = Projection(headers, columns, extensions)\n",
    "new_data = projection.do(data, True)"
   ]
  }
 ],
 "metadata": {
  "kernelspec": {
   "display_name": "Python 3",
   "language": "python",
   "name": "python3"
  },
  "language_info": {
   "codemirror_mode": {
    "name": "ipython",
    "version": 3
   },
   "file_extension": ".py",
   "mimetype": "text/x-python",
   "name": "python",
   "nbconvert_exporter": "python",
   "pygments_lexer": "ipython3",
   "version": "3.6.6+"
  }
 },
 "nbformat": 4,
 "nbformat_minor": 2
}
