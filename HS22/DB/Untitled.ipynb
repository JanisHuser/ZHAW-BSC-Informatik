{
 "cells": [
  {
   "cell_type": "code",
   "execution_count": 1,
   "metadata": {},
   "outputs": [
    {
     "name": "stdout",
     "output_type": "stream",
     "text": [
      "Name\tAdresse\tGeschlecht\tGeburt\n",
      "New DATA HERE\t123 Mapple St.\tF\t999\n"
     ]
    }
   ],
   "source": [
    "from Scripts.Sets.Subtract import SetSubtract\n",
    "\n",
    "header = [\n",
    "    'Name', 'Adresse', 'Geschlecht', 'Geburt'\n",
    "]\n",
    "\n",
    "data_r = [\n",
    "    ['Carrie Fisher', '123 Mapple St.', 'F', '999'],\n",
    "    ['New DATA HERE', '123 Mapple St.', 'F', '999']\n",
    "]\n",
    "\n",
    "data_s = [\n",
    "    ['Carrie Fisher', '123 Mapple St.', 'F', '999'],\n",
    "    \n",
    "]\n",
    "\n",
    "intersect = SetSubtract(header)\n",
    "\n",
    "intersected_data = intersect.do(data_r, data_s, True)"
   ]
  }
 ],
 "metadata": {
  "kernelspec": {
   "display_name": "Python 3",
   "language": "python",
   "name": "python3"
  },
  "language_info": {
   "codemirror_mode": {
    "name": "ipython",
    "version": 3
   },
   "file_extension": ".py",
   "mimetype": "text/x-python",
   "name": "python",
   "nbconvert_exporter": "python",
   "pygments_lexer": "ipython3",
   "version": "3.6.6+"
  }
 },
 "nbformat": 4,
 "nbformat_minor": 2
}
