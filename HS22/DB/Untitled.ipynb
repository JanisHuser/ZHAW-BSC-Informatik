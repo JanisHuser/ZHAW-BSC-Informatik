{
 "cells": [
  {
   "cell_type": "code",
   "execution_count": 1,
   "metadata": {},
   "outputs": [
    {
     "name": "stdout",
     "output_type": "stream",
     "text": [
      "A\tR.B\tS.B\tC\tD\n",
      "1\t2\t2\t5\t6\n",
      "1\t2\t4\t7\t8\n",
      "1\t2\t9\t10\t11\n",
      "1\t2\t2\t5\t6\n",
      "1\t2\t4\t7\t8\n",
      "1\t2\t9\t10\t11\n",
      "3\t4\t2\t5\t6\n",
      "3\t4\t4\t7\t8\n",
      "3\t4\t9\t10\t11\n"
     ]
    }
   ],
   "source": [
    "from Scripts.Joins.Cartesian import CartesianJoin\n",
    "\n",
    "header_R = [\n",
    "    'A', 'B'\n",
    "]\n",
    "\n",
    "header_S = [\n",
    "    'B', 'C', 'D'\n",
    "]\n",
    "\n",
    "data_R = [\n",
    "    [1, 2],\n",
    "    [1, 2],\n",
    "    [3, 4]\n",
    "]\n",
    "data_S = [\n",
    "    [2, 5, 6],\n",
    "    [4, 7, 8],\n",
    "    [9, 10, 11]\n",
    "]\n",
    "\n",
    "cartesian_join = CartesianJoin(header_R, header_S, 'R', 'S')\n",
    "new_header, new_data = cartesian_join.join(data_R, data_S, True)"
   ]
  }
 ],
 "metadata": {
  "kernelspec": {
   "display_name": "Python 3",
   "language": "python",
   "name": "python3"
  },
  "language_info": {
   "codemirror_mode": {
    "name": "ipython",
    "version": 3
   },
   "file_extension": ".py",
   "mimetype": "text/x-python",
   "name": "python",
   "nbconvert_exporter": "python",
   "pygments_lexer": "ipython3",
   "version": "3.6.6+"
  }
 },
 "nbformat": 4,
 "nbformat_minor": 2
}
