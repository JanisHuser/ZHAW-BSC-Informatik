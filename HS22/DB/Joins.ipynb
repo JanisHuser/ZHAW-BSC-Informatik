{
 "cells": [
  {
   "cell_type": "markdown",
   "metadata": {},
   "source": [
    "Natural Join"
   ]
  },
  {
   "cell_type": "code",
   "execution_count": 1,
   "metadata": {},
   "outputs": [
    {
     "name": "stdout",
     "output_type": "stream",
     "text": [
      "Apply Cartesian Join\n",
      "A\tR.B\tR.C\tS.B\tS.C\tD\n",
      "1\t2\t3\t2\t5\t6\n",
      "1\t2\t3\t2\t3\t5\n",
      "1\t2\t3\t7\t8\t10\n",
      "6\t7\t8\t2\t5\t6\n",
      "6\t7\t8\t2\t3\t5\n",
      "6\t7\t8\t7\t8\t10\n",
      "9\t7\t8\t2\t5\t6\n",
      "9\t7\t8\t2\t3\t5\n",
      "9\t7\t8\t7\t8\t10\n",
      "\n",
      "Execute Query: \"(A < D) and (R.B is not S.B)\"\n",
      "A\tR.B\tR.C\tS.B\tS.C\tD\n",
      "1\t2\t3\t7\t8\t10\n"
     ]
    }
   ],
   "source": [
    "from Scripts.Joins.Theta import ThetaJoin\n",
    "\n",
    "header_a = ['A', 'B', 'C', ]\n",
    "header_b = ['B', 'C', 'D']\n",
    "\n",
    "theta = ThetaJoin(header_a, header_b, 'R', 'S')\n",
    "\n",
    "data_a = [\n",
    "    [1,2,3],\n",
    "    [6,7,8],\n",
    "    [9,7,8]\n",
    "]\n",
    "\n",
    "data_b = [\n",
    "    [2,5,6],\n",
    "    [2,3,5],\n",
    "    [7,8,10]\n",
    "]\n",
    "\n",
    "query = \"(A < D) and (R.B is not S.B)\"\n",
    "\n",
    "new_headers, new_data = theta.join(data_a, data_b, query, True)"
   ]
  }
 ],
 "metadata": {
  "kernelspec": {
   "display_name": "Python 3",
   "language": "python",
   "name": "python3"
  },
  "language_info": {
   "codemirror_mode": {
    "name": "ipython",
    "version": 3
   },
   "file_extension": ".py",
   "mimetype": "text/x-python",
   "name": "python",
   "nbconvert_exporter": "python",
   "pygments_lexer": "ipython3",
   "version": "3.6.6+"
  }
 },
 "nbformat": 4,
 "nbformat_minor": 2
}
