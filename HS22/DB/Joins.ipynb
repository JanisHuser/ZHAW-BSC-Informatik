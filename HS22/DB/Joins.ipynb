{
 "cells": [
  {
   "cell_type": "markdown",
   "metadata": {},
   "source": [
    "Natural Join"
   ]
  },
  {
   "cell_type": "code",
   "execution_count": 1,
   "metadata": {},
   "outputs": [
    {
     "name": "stdout",
     "output_type": "stream",
     "text": [
      "Apply Cartesian Join\n",
      "A\tx.B\tx.C\ty.B\ty.C\tD\n",
      "1\t2\t3\t2\t3\t2\n",
      "1\t2\t3\t3\t3\t3\n",
      "1\t2\t3\t1\t2\t1\n",
      "5\t5\t6\t2\t3\t2\n",
      "5\t5\t6\t3\t3\t3\n",
      "5\t5\t6\t1\t2\t1\n",
      "7\t8\t9\t2\t3\t2\n",
      "7\t8\t9\t3\t3\t3\n",
      "7\t8\t9\t1\t2\t1\n",
      "10\t11\t12\t2\t3\t2\n",
      "10\t11\t12\t3\t3\t3\n",
      "10\t11\t12\t1\t2\t1\n",
      "\n",
      "Execute Query: \"(x.C < D) or (x.B == y.C and A == D)\"\n",
      "A\tx.B\tx.C\ty.B\ty.C\tD\n",
      "1\t2\t3\t1\t2\t1\n",
      "1\t2\t3\t1\t2\t1\n"
     ]
    }
   ],
   "source": [
    "from Scripts.Joins.Theta import ThetaJoin\n",
    "\n",
    "header_x = [\n",
    "    'A', 'B', 'C'\n",
    "]\n",
    "\n",
    "header_y = [\n",
    "    'B', 'C', 'D'\n",
    "]\n",
    "\n",
    "header_z = [\n",
    "    'B', 'C', 'D'\n",
    "]\n",
    "\n",
    "data_x = [\n",
    "    [1, 2, 3],\n",
    "    [5, 5, 6],\n",
    "    [7, 8, 9],\n",
    "    [10, 11, 12]\n",
    "]\n",
    "data_y = [\n",
    "    [2, 3, 2],\n",
    "    [3, 3, 3],\n",
    "    [1, 2, 1]\n",
    "]\n",
    "\n",
    "data_z = [\n",
    "    [2,3,2],\n",
    "    [1,2,3],\n",
    "    [2,3,2]\n",
    "]\n",
    "\n",
    "\n",
    "theta = ThetaJoin(header_x, header_y, 'x', 'y')\n",
    "\n",
    "query = \"(x.C < D) or (x.B == y.C and A == D)\"\n",
    "\n",
    "new_headers, new_data = theta.join(data_x, data_y, query, True)"
   ]
  },
  {
   "cell_type": "code",
   "execution_count": 2,
   "metadata": {},
   "outputs": [
    {
     "name": "stdout",
     "output_type": "stream",
     "text": [
      "z.B\tz.C\tz.D\n",
      "['z_B', 'z_C', 'z_D']\n",
      "1\t2\t3\n",
      "2\t3\t2\n",
      "1\t2\t3\n",
      "['z.B', 'z.C', 'z.D']\n",
      "z.B\tz.D\tCQ\n",
      "['z_B', 'z_D']\n"
     ]
    },
    {
     "ename": "NameError",
     "evalue": "name 'z' is not defined",
     "output_type": "error",
     "traceback": [
      "\u001b[0;31m---------------------------------------------------------------------------\u001b[0m",
      "\u001b[0;31mNameError\u001b[0m                                 Traceback (most recent call last)",
      "\u001b[0;32m<ipython-input-2-ab1f322c61b9>\u001b[0m in \u001b[0;36m<module>\u001b[0;34m\u001b[0m\n\u001b[1;32m     47\u001b[0m \u001b[0mprint\u001b[0m \u001b[0;34m(\u001b[0m\u001b[0mh_zbzczd\u001b[0m\u001b[0;34m)\u001b[0m\u001b[0;34m\u001b[0m\u001b[0m\n\u001b[1;32m     48\u001b[0m \u001b[0mp_final\u001b[0m \u001b[0;34m=\u001b[0m \u001b[0mProjection\u001b[0m\u001b[0;34m(\u001b[0m\u001b[0mh_zbzczd\u001b[0m\u001b[0;34m,\u001b[0m \u001b[0;34m[\u001b[0m\u001b[0;34m'z.B'\u001b[0m\u001b[0;34m,\u001b[0m \u001b[0;34m'z.D'\u001b[0m\u001b[0;34m]\u001b[0m\u001b[0;34m,\u001b[0m \u001b[0;34m[\u001b[0m\u001b[0;34m(\u001b[0m\u001b[0;34m'(z.C)**2'\u001b[0m\u001b[0;34m,\u001b[0m \u001b[0;34m'CQ'\u001b[0m\u001b[0;34m)\u001b[0m\u001b[0;34m]\u001b[0m\u001b[0;34m)\u001b[0m\u001b[0;34m\u001b[0m\u001b[0m\n\u001b[0;32m---> 49\u001b[0;31m \u001b[0mp_final\u001b[0m\u001b[0;34m.\u001b[0m\u001b[0mdo\u001b[0m\u001b[0;34m(\u001b[0m\u001b[0md_zbzczd\u001b[0m\u001b[0;34m,\u001b[0m \u001b[0;32mTrue\u001b[0m\u001b[0;34m)\u001b[0m\u001b[0;34m\u001b[0m\u001b[0m\n\u001b[0m\u001b[1;32m     50\u001b[0m \u001b[0;34m\u001b[0m\u001b[0m\n",
      "\u001b[0;32m/private/var/mobile/Containers/Data/Application/86A0C925-DA2A-4F26-894E-97F49EE060D6/Documents/ZHAW-BSC/HS22/DB/Scripts/Projection.py\u001b[0m in \u001b[0;36mdo\u001b[0;34m(self, data, log)\u001b[0m\n\u001b[1;32m     54\u001b[0m \u001b[0;34m\u001b[0m\u001b[0m\n\u001b[1;32m     55\u001b[0m             \u001b[0;32mfor\u001b[0m \u001b[0mequation\u001b[0m\u001b[0;34m,\u001b[0m \u001b[0mheader\u001b[0m \u001b[0;32min\u001b[0m \u001b[0mself\u001b[0m\u001b[0;34m.\u001b[0m\u001b[0m_extensions\u001b[0m\u001b[0;34m:\u001b[0m\u001b[0;34m\u001b[0m\u001b[0m\n\u001b[0;32m---> 56\u001b[0;31m                 \u001b[0mvalue\u001b[0m \u001b[0;34m=\u001b[0m \u001b[0meval\u001b[0m\u001b[0;34m(\u001b[0m\u001b[0mequation\u001b[0m\u001b[0;34m)\u001b[0m\u001b[0;34m\u001b[0m\u001b[0m\n\u001b[0m\u001b[1;32m     57\u001b[0m \u001b[0;34m\u001b[0m\u001b[0m\n\u001b[1;32m     58\u001b[0m                 \u001b[0mnew_row\u001b[0m\u001b[0;34m.\u001b[0m\u001b[0mappend\u001b[0m\u001b[0;34m(\u001b[0m\u001b[0mvalue\u001b[0m\u001b[0;34m)\u001b[0m\u001b[0;34m\u001b[0m\u001b[0m\n",
      "\u001b[0;32m/private/var/mobile/Containers/Data/Application/86A0C925-DA2A-4F26-894E-97F49EE060D6/Documents/ZHAW-BSC/HS22/DB/Scripts/Projection.py\u001b[0m in \u001b[0;36m<module>\u001b[0;34m\u001b[0m\n",
      "\u001b[0;31mNameError\u001b[0m: name 'z' is not defined"
     ]
    }
   ],
   "source": [
    "from Scripts.Joins.Theta import ThetaJoin\n",
    "from Scripts.Projection import Projection\n",
    "header_x = [\n",
    "    'A', 'B', 'C'\n",
    "]\n",
    "\n",
    "header_y = [\n",
    "    'B', 'C', 'D'\n",
    "]\n",
    "\n",
    "header_z = [\n",
    "    'B', 'C', 'D'\n",
    "]\n",
    "\n",
    "data_x = [\n",
    "    [1, 2, 3],\n",
    "    [5, 5, 6],\n",
    "    [7, 8, 9],\n",
    "    [10, 11, 12]\n",
    "]\n",
    "data_y = [\n",
    "    [2, 3, 2],\n",
    "    [3, 3, 3],\n",
    "    [1, 2, 1]\n",
    "]\n",
    "\n",
    "data_z = [\n",
    "    [2,3,2],\n",
    "    [1,2,3],\n",
    "    [2,3,2]\n",
    "]\n",
    "\n",
    "\n",
    "theta = ThetaJoin(header_y, header_z, 'y', 'z')\n",
    "\n",
    "query = \"y.B > z.B\"\n",
    "\n",
    "h_yz, d_yz = theta.join(data_y, data_z, query, False)\n",
    "\n",
    "h_zbzczd = ['z.B', 'z.C', 'z.D']\n",
    "projection = Projection(h_yz, h_zbzczd)\n",
    "projection.set_bag(True)\n",
    "d_zbzczd = projection.do(d_yz, True)\n",
    "\n",
    "d_zbzczd.pop(0)\n",
    "h_zbzczd = ['z.B', 'z.C', 'z.D']\n",
    "print (h_zbzczd)\n",
    "p_final = Projection(h_zbzczd, ['z.B', 'z.D'], [('(z.C)**2', 'CQ')])\n",
    "p_final.do(d_zbzczd, True)\n",
    "\n"
   ]
  }
 ],
 "metadata": {
  "kernelspec": {
   "display_name": "Python 3",
   "language": "python",
   "name": "python3"
  },
  "language_info": {
   "codemirror_mode": {
    "name": "ipython",
    "version": 3
   },
   "file_extension": ".py",
   "mimetype": "text/x-python",
   "name": "python",
   "nbconvert_exporter": "python",
   "pygments_lexer": "ipython3",
   "version": "3.6.6+"
  }
 },
 "nbformat": 4,
 "nbformat_minor": 2
}
