{
 "cells": [
  {
   "cell_type": "code",
   "execution_count": 1,
   "metadata": {},
   "outputs": [
    {
     "name": "stdout",
     "output_type": "stream",
     "text": [
      "A\tR.B\tS.B\tC\tD\n",
      "1\t2\t2\t5\t6\n",
      "1\t2\t4\t7\t8\n",
      "1\t2\t9\t10\t11\n",
      "3\t4\t2\t5\t6\n",
      "3\t4\t4\t7\t8\n",
      "3\t4\t9\t10\t11\n"
     ]
    }
   ],
   "source": [
    "from Scripts.Joins.Cartesian import CartesianJoin\n",
    "\n",
    "header_R = [\n",
    "    'A', 'B'\n",
    "]\n",
    "\n",
    "header_S = [\n",
    "    'B', 'C', 'D'\n",
    "]\n",
    "\n",
    "data_R = [\n",
    "    [1, 2],\n",
    "    [3, 4]\n",
    "]\n",
    "data_S = [\n",
    "    [2, 5, 6],\n",
    "    [4, 7, 8],\n",
    "    [9, 10, 11]\n",
    "]\n",
    "\n",
    "cartesian_join = CartesianJoin(header_R, header_S, 'R', 'S')\n",
    "new_header, new_data = cartesian_join.join(data_R, data_S, True)"
   ]
  },
  {
   "cell_type": "code",
   "execution_count": 2,
   "metadata": {},
   "outputs": [
    {
     "name": "stdout",
     "output_type": "stream",
     "text": [
      "True\n",
      "A\tB\tC\n"
     ]
    },
    {
     "ename": "NameError",
     "evalue": "name 'X' is not defined",
     "output_type": "error",
     "traceback": [
      "\u001b[0;31m---------------------------------------------------------------------------\u001b[0m",
      "\u001b[0;31mNameError\u001b[0m                                 Traceback (most recent call last)",
      "\u001b[0;32m<ipython-input-2-6395606a6a69>\u001b[0m in \u001b[0;36m<module>\u001b[0;34m\u001b[0m\n\u001b[1;32m     15\u001b[0m \u001b[0;34m\u001b[0m\u001b[0m\n\u001b[1;32m     16\u001b[0m \u001b[0mselect\u001b[0m \u001b[0;34m=\u001b[0m \u001b[0mSelect\u001b[0m\u001b[0;34m(\u001b[0m\u001b[0mheaders\u001b[0m\u001b[0;34m,\u001b[0m \u001b[0mquery\u001b[0m\u001b[0;34m)\u001b[0m\u001b[0;34m\u001b[0m\u001b[0m\n\u001b[0;32m---> 17\u001b[0;31m \u001b[0mnew_data\u001b[0m \u001b[0;34m=\u001b[0m \u001b[0mselect\u001b[0m\u001b[0;34m.\u001b[0m\u001b[0mdo\u001b[0m\u001b[0;34m(\u001b[0m\u001b[0mdata\u001b[0m\u001b[0;34m,\u001b[0m \u001b[0;32mTrue\u001b[0m\u001b[0;34m)\u001b[0m\u001b[0;34m\u001b[0m\u001b[0m\n\u001b[0m",
      "\u001b[0;32m/private/var/mobile/Containers/Data/Application/86A0C925-DA2A-4F26-894E-97F49EE060D6/Documents/ZHAW-BSC/HS22/DB/Scripts/Select.py\u001b[0m in \u001b[0;36mdo\u001b[0;34m(self, data, log)\u001b[0m\n\u001b[1;32m     24\u001b[0m                 \u001b[0mlocals\u001b[0m\u001b[0;34m(\u001b[0m\u001b[0;34m)\u001b[0m\u001b[0;34m[\u001b[0m\u001b[0mh\u001b[0m\u001b[0;34m]\u001b[0m \u001b[0;34m=\u001b[0m \u001b[0mrow\u001b[0m\u001b[0;34m[\u001b[0m\u001b[0mi\u001b[0m\u001b[0;34m]\u001b[0m\u001b[0;34m\u001b[0m\u001b[0m\n\u001b[1;32m     25\u001b[0m \u001b[0;34m\u001b[0m\u001b[0m\n\u001b[0;32m---> 26\u001b[0;31m             \u001b[0;32mif\u001b[0m \u001b[0meval\u001b[0m\u001b[0;34m(\u001b[0m\u001b[0mself\u001b[0m\u001b[0;34m.\u001b[0m\u001b[0m_selection\u001b[0m\u001b[0;34m)\u001b[0m\u001b[0;34m:\u001b[0m\u001b[0;34m\u001b[0m\u001b[0m\n\u001b[0m\u001b[1;32m     27\u001b[0m                 \u001b[0mresult\u001b[0m\u001b[0;34m.\u001b[0m\u001b[0mappend\u001b[0m\u001b[0;34m(\u001b[0m\u001b[0mrow\u001b[0m\u001b[0;34m)\u001b[0m\u001b[0;34m\u001b[0m\u001b[0m\n\u001b[1;32m     28\u001b[0m \u001b[0;34m\u001b[0m\u001b[0m\n",
      "\u001b[0;32m/private/var/mobile/Containers/Data/Application/86A0C925-DA2A-4F26-894E-97F49EE060D6/Documents/ZHAW-BSC/HS22/DB/Scripts/Select.py\u001b[0m in \u001b[0;36m<module>\u001b[0;34m\u001b[0m\n",
      "\u001b[0;31mNameError\u001b[0m: name 'X' is not defined"
     ]
    }
   ],
   "source": [
    "from Scripts.Select import Select\n",
    "\n",
    "headers = [\n",
    "    'A', 'B', 'C'\n",
    "]\n",
    "\n",
    "data = [\n",
    "    [1, 0, 0],\n",
    "    [1, 0, 1],\n",
    "    [1, 1, 0],\n",
    "    [0, 1, 0]\n",
    "]\n",
    "\n",
    "query = \"((A == 0) or C == 2 * B + X)\"\n",
    "\n",
    "select = Select(headers, query)\n",
    "new_data = select.do(data, True)"
   ]
  }
 ],
 "metadata": {
  "kernelspec": {
   "display_name": "Python 3",
   "language": "python",
   "name": "python3"
  },
  "language_info": {
   "codemirror_mode": {
    "name": "ipython",
    "version": 3
   },
   "file_extension": ".py",
   "mimetype": "text/x-python",
   "name": "python",
   "nbconvert_exporter": "python",
   "pygments_lexer": "ipython3",
   "version": "3.6.6+"
  }
 },
 "nbformat": 4,
 "nbformat_minor": 2
}
