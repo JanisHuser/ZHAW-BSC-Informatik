{
 "cells": [
  {
   "cell_type": "code",
   "execution_count": 3,
   "metadata": {},
   "outputs": [
    {
     "name": "stdout",
     "output_type": "stream",
     "text": [
      "a\tb\tc\td\tZ\n",
      "0\t0\t0\t0\t0\n",
      "0\t0\t0\t1\t0\n",
      "0\t0\t1\t0\t1\n",
      "0\t0\t1\t1\t1\n",
      "0\t1\t0\t0\t0\n",
      "0\t1\t0\t1\t0\n",
      "0\t1\t1\t0\t1\n",
      "0\t1\t1\t1\t1\n",
      "1\t0\t0\t0\t1\n",
      "1\t0\t0\t1\t1\n",
      "1\t0\t1\t0\t1\n",
      "1\t0\t1\t1\t0\n",
      "1\t1\t0\t0\t0\n",
      "1\t1\t0\t1\t1\n",
      "1\t1\t1\t0\t0\n",
      "1\t1\t1\t1\t0\n"
     ]
    }
   ],
   "source": [
    "from Scripts.Digitaltechnik.TruthTable import TruthTable\n",
    "\n",
    "table = TruthTable(['a', 'b', 'c', 'd'])\n",
    "\n",
    "table.check('(d or b) and (a or not c or not d) and (not a or not b or not d)')\n"
   ]
  }
 ],
 "metadata": {
  "kernelspec": {
   "display_name": "Python 3",
   "language": "python",
   "name": "python3"
  },
  "language_info": {
   "codemirror_mode": {
    "name": "ipython",
    "version": 3
   },
   "file_extension": ".py",
   "mimetype": "text/x-python",
   "name": "python",
   "nbconvert_exporter": "python",
   "pygments_lexer": "ipython3",
   "version": "3.6.6+"
  }
 },
 "nbformat": 4,
 "nbformat_minor": 2
}
