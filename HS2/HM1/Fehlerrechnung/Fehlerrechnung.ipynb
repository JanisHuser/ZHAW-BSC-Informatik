{
 "cells": [
  {
   "cell_type": "code",
   "execution_count": 1,
   "metadata": {},
   "outputs": [
    {
     "name": "stdout",
     "output_type": "stream",
     "text": [
      "Normal\n",
      "[[1.e+00 0.e+00 2.e+00]\n",
      " [0.e+00 1.e+00 0.e+00]\n",
      " [1.e-04 0.e+00 1.e-04]]\n",
      "Kond: 3.0 \n",
      "\n",
      "Inverse\n",
      "[[-1.e+00  0.e+00  2.e+04]\n",
      " [ 0.e+00  1.e+00  0.e+00]\n",
      " [ 1.e+00  0.e+00 -1.e+04]]\n",
      "Kond: 20001.0 \n",
      "\n",
      "Konditionszahl\n",
      "60003.0\n"
     ]
    }
   ],
   "source": [
    "# Konditionszahl\n",
    "import numpy as np\n",
    "\n",
    "A = np.array([\n",
    "\t[1, 0, 2],\n",
    "\t[0, 1, 0],\n",
    "\t[1E-4, 0, 1E-4]\n",
    "])\n",
    "\n",
    "order = np.Infinity\n",
    "\n",
    "A_norm = np.linalg.norm(A, order)\n",
    "\n",
    "A_inv = np.linalg.inv(A)\n",
    "A_inv_norm = np.linalg.norm(A_inv, order)\n",
    "\n",
    "\n",
    "print (\"Normal\")\n",
    "print (A)\n",
    "print (f\"Kond: {A_norm} \\n\")\n",
    "\n",
    "print (\"Inverse\")\n",
    "print (A_inv)\n",
    "print (f\"Kond: {A_inv_norm} \\n\")\n",
    "\n",
    "print (\"Norm\")\n",
    "print (A_norm * A_inv_norm)"
   ]
  },
  {
   "cell_type": "code",
   "execution_count": 3,
   "metadata": {},
   "outputs": [
    {
     "name": "stdout",
     "output_type": "stream",
     "text": [
      "Relativer Fehler 2.071029295391824e-06\n"
     ]
    }
   ],
   "source": [
    "# Relativer Fehler\n",
    "import numpy as np\n",
    "\n",
    "A = np.array([\n",
    "\t[1,2],\n",
    "\t[3, 4]\n",
    "])\n",
    "\n",
    "# Fehlermatrix\n",
    "As = A + np.random.rand(2, 2) / 1E5\n",
    "\n",
    "rel_error = np.linalg.norm(A - As, order) / np.linalg.norm(A, order)\n",
    "\n",
    "print (\"Relativer Fehler\", rel_error)"
   ]
  },
  {
   "cell_type": "code",
   "execution_count": 4,
   "metadata": {},
   "outputs": [
    {
     "name": "stdout",
     "output_type": "stream",
     "text": [
      "Konditionszahl a 50000.000179999995\n",
      "Epsilon 1.9999999928000002e-07\n"
     ]
    }
   ],
   "source": [
    "# Relativer Fehler in einem Bereich\n",
    "\n",
    "import numpy as np\n",
    "\n",
    "A = np.array([\n",
    "\t[1, 0, 2],\n",
    "\t[0, 1, 0],\n",
    "\t[1E-4, 0, 1E-4]\n",
    "])\n",
    "\n",
    "# Maximaler relativer Fehler \n",
    "max_rel_error = 0.01\n",
    "order = np.Infinity\n",
    "\n",
    "cond_a = np.linalg.cond(A)\n",
    "print(\"Konditionszahl a\", cond_a)\n",
    "print (\"Epsilon\", max_rel_error / cond_a )"
   ]
  },
  {
   "cell_type": "code",
   "execution_count": 5,
   "metadata": {},
   "outputs": [
    {
     "name": "stdout",
     "output_type": "stream",
     "text": [
      "50000.000179999995 ≤ (1 - 1.9999999928000002e-07)\n",
      "Resultat:  1.9999995928000032e-05\n"
     ]
    }
   ],
   "source": [
    "# Tatsächlicher Fehler\n",
    "import numpy as np\n",
    "\n",
    "A = np.array([\n",
    "\t[1, 0, 2],\n",
    "\t[0, 1, 0],\n",
    "\t[1E-4, 0, 1E-4]\n",
    "])\n",
    "\n",
    "# Maximaler relativer Fehler \n",
    "max_rel_error = 0.01\n",
    "order = np.Infinity\n",
    "\n",
    "cond_a = np.linalg.cond(A)\n",
    "epsilon = max_rel_error / cond_a\n",
    "\n",
    "print (\"{a} ≤ (1 - {e})\".format(a=cond_a, e=epsilon))\n",
    "\n",
    "print(\"Resultat: \", (1-epsilon)/cond_a)"
   ]
  }
 ],
 "metadata": {
  "kernelspec": {
   "display_name": "Python 3",
   "language": "python",
   "name": "python3"
  },
  "language_info": {
   "codemirror_mode": {
    "name": "ipython",
    "version": 3
   },
   "file_extension": ".py",
   "mimetype": "text/x-python",
   "name": "python",
   "nbconvert_exporter": "python",
   "pygments_lexer": "ipython3",
   "version": "3.6.6+"
  }
 },
 "nbformat": 4,
 "nbformat_minor": 2
}
